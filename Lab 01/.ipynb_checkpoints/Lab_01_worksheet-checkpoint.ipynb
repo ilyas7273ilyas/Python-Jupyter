{
 "cells": [
  {
   "cell_type": "markdown",
   "metadata": {},
   "source": [
    "# Question 1"
   ]
  },
  {
   "cell_type": "code",
   "execution_count": 1,
   "metadata": {},
   "outputs": [
    {
     "name": "stdout",
     "output_type": "stream",
     "text": [
      "22MCA1079\n",
      "X: 1\n",
      "Y: 2\n",
      "Z: 4\n",
      "A: 3\n",
      "B: 2\n",
      "C: 6\n",
      "Result of Expression is:  102\n"
     ]
    }
   ],
   "source": [
    "print(\"22MCA1079\")\n",
    "x = int(input(\"X: \"))\n",
    "y = int(input(\"Y: \"))\n",
    "z = int(input(\"Z: \"))\n",
    "a = int(input(\"A: \"))\n",
    "b = int(input(\"B: \"))\n",
    "c = int(input(\"C: \"))\n",
    "\n",
    "d = (x+y)*z**a//b+c     # ** is exponential operator  a**b = a^b\n",
    "print(\"Result of Expression is: \",d)"
   ]
  },
  {
   "cell_type": "markdown",
   "metadata": {},
   "source": [
    "# Question 2"
   ]
  },
  {
   "cell_type": "code",
   "execution_count": 2,
   "metadata": {},
   "outputs": [
    {
     "name": "stdout",
     "output_type": "stream",
     "text": [
      "22MCA1079\n",
      "Enter the number: 122\n",
      "Number is Even \n"
     ]
    }
   ],
   "source": [
    "print(\"22MCA1079\")\n",
    "n = int(input(\"Enter the number: \"))\n",
    "if n%2==0:\n",
    "    print(\"Number is Even \")\n",
    "else:\n",
    "    print(\"Number is Odd\")"
   ]
  },
  {
   "cell_type": "markdown",
   "metadata": {},
   "source": [
    "# Question 3"
   ]
  },
  {
   "cell_type": "code",
   "execution_count": 3,
   "metadata": {},
   "outputs": [
    {
     "name": "stdout",
     "output_type": "stream",
     "text": [
      "22MCA1079\n",
      "Enter the Tempearatur in Celsius: 40.1\n",
      "Temperature in Fahrenheit:  104.18\n"
     ]
    }
   ],
   "source": [
    "print(\"22MCA1079\")\n",
    "c = float(input(\"Enter the Tempearatur in Celsius: \"))\n",
    "f = (9*c/5)+32\n",
    "print(\"Temperature in Fahrenheit: \",f)"
   ]
  },
  {
   "cell_type": "markdown",
   "metadata": {},
   "source": [
    "# Question 4"
   ]
  },
  {
   "cell_type": "code",
   "execution_count": 4,
   "metadata": {},
   "outputs": [
    {
     "name": "stdout",
     "output_type": "stream",
     "text": [
      "22MCA1079\n",
      "Enter how many number you want:5\n",
      "Enter the 5 numbers\n",
      "12\n",
      "2\n",
      "3\n",
      "41\n",
      "5\n",
      "Average of given numbers:  12.6\n"
     ]
    }
   ],
   "source": [
    "print(\"22MCA1079\")\n",
    "n = int(input(\"Enter how many number you want:\"))\n",
    "sum = 0\n",
    "print(f\"Enter the {n} numbers\")\n",
    "for item in range(0,n):\n",
    "    item = int(input())\n",
    "    sum += item\n",
    "print(\"Average of given numbers: \",sum/n)"
   ]
  },
  {
   "cell_type": "markdown",
   "metadata": {},
   "source": [
    "# Question 5"
   ]
  },
  {
   "cell_type": "code",
   "execution_count": 5,
   "metadata": {},
   "outputs": [
    {
     "name": "stdout",
     "output_type": "stream",
     "text": [
      "22MCA1079\n",
      "Enter how many number you want to multiply:5\n",
      "Enter the 5 numbers\n",
      "1\n",
      "2\n",
      "4\n",
      "5\n",
      "2\n",
      "Product of given numbers:  80.0\n"
     ]
    }
   ],
   "source": [
    "print(\"22MCA1079\")\n",
    "n = int(input(\"Enter how many number you want to multiply:\"))\n",
    "p = 1\n",
    "print(f\"Enter the {n} numbers\")\n",
    "for item in range(0,n):\n",
    "    item = float(input())\n",
    "    p *= item\n",
    "print(\"Product of given numbers: \",p)"
   ]
  },
  {
   "cell_type": "markdown",
   "metadata": {},
   "source": [
    "# Question 6"
   ]
  },
  {
   "cell_type": "code",
   "execution_count": 6,
   "metadata": {},
   "outputs": [
    {
     "name": "stdout",
     "output_type": "stream",
     "text": [
      "22MCA1079\n",
      "Enter the radius of circle: 2.5\n",
      "Circumference of circle:  15.707963267948966\n",
      "Area of Circle:  19.634954084936208\n"
     ]
    }
   ],
   "source": [
    "print(\"22MCA1079\")\n",
    "import math as m\n",
    "r = float(input(\"Enter the radius of circle: \"))\n",
    "print(\"Circumference of circle: \", 2 * m.pi * r)\n",
    "print(\"Area of Circle: \", m.pi * r**2)"
   ]
  },
  {
   "cell_type": "markdown",
   "metadata": {},
   "source": [
    "# Question 7"
   ]
  },
  {
   "cell_type": "code",
   "execution_count": 7,
   "metadata": {},
   "outputs": [
    {
     "name": "stdout",
     "output_type": "stream",
     "text": [
      "22MCA1079\n",
      "Enter the number: 1254\n",
      "Reverse of given number is:  4521\n"
     ]
    }
   ],
   "source": [
    "print(\"22MCA1079\")\n",
    "n = int(input(\"Enter the number: \"))\n",
    "rev = 0\n",
    "while n>0:\n",
    "    last = n%10\n",
    "    rev = rev*10 + last\n",
    "    n = n//10        # Use \"//\" in python instead of \"/\"\n",
    "print(\"Reverse of given number is: \",rev)"
   ]
  },
  {
   "cell_type": "markdown",
   "metadata": {},
   "source": [
    "# Question 8"
   ]
  },
  {
   "cell_type": "code",
   "execution_count": 8,
   "metadata": {},
   "outputs": [
    {
     "name": "stdout",
     "output_type": "stream",
     "text": [
      "22MCA1079\n",
      "Multiples of 3 within the range 10 to 50\n",
      "12\n",
      "15\n",
      "18\n",
      "21\n",
      "24\n",
      "27\n",
      "30\n",
      "33\n",
      "36\n",
      "39\n",
      "42\n",
      "45\n",
      "48\n"
     ]
    }
   ],
   "source": [
    "print(\"22MCA1079\")\n",
    "print(\"Multiples of 3 within the range 10 to 50\")\n",
    "for i in range(10,50):\n",
    "    if i%3 == 0:\n",
    "        print(i)"
   ]
  },
  {
   "cell_type": "markdown",
   "metadata": {},
   "source": [
    "# Question 9"
   ]
  },
  {
   "cell_type": "code",
   "execution_count": 9,
   "metadata": {},
   "outputs": [
    {
     "name": "stdout",
     "output_type": "stream",
     "text": [
      "22MCA1079\n",
      "Enter the range: 15\n",
      "Prime Numbers are: \n",
      "2\n",
      "3\n",
      "5\n",
      "7\n",
      "11\n",
      "13\n"
     ]
    }
   ],
   "source": [
    "print(\"22MCA1079\")\n",
    "N = int(input(\"Enter the range: \"))\n",
    "print(\"Prime Numbers are: \")\n",
    "for item in range(2,N+1):\n",
    "    for i in range(2,(item//2+1)):\n",
    "        if item%i == 0:\n",
    "            break\n",
    "    else:\n",
    "        print(item)            "
   ]
  },
  {
   "cell_type": "markdown",
   "metadata": {},
   "source": [
    "# Question 10"
   ]
  },
  {
   "cell_type": "code",
   "execution_count": 10,
   "metadata": {},
   "outputs": [
    {
     "name": "stdout",
     "output_type": "stream",
     "text": [
      "22MCA1079\n",
      "Equation: ax^2 + bx + c \n",
      "Enter a: 1\n",
      "Enter b: -8\n",
      "Enter c: -9\n",
      "The first root:  9.0\n",
      "The second root:  -1.0\n"
     ]
    }
   ],
   "source": [
    "print(\"22MCA1079\")\n",
    "print(\"Equation: ax^2 + bx + c \")\n",
    "a=int(input(\"Enter a: \"))\n",
    "b=int(input(\"Enter b: \"))\n",
    "c=int(input(\"Enter c: \"))\n",
    "d=b**2-4*a*c\n",
    "d1=d**0.5\n",
    "if(d<0):\n",
    "    print(\"The roots are imaginary. \")\n",
    "else:\n",
    "    r1=(-b+d1)/2*a\n",
    "    r2=(-b-d1)/2*a\n",
    "    print(\"The first root: \",round(r1,2))\n",
    "    print(\"The second root: \",round(r2,2))"
   ]
  },
  {
   "cell_type": "markdown",
   "metadata": {},
   "source": [
    "# Question 11"
   ]
  },
  {
   "cell_type": "code",
   "execution_count": 11,
   "metadata": {},
   "outputs": [
    {
     "name": "stdout",
     "output_type": "stream",
     "text": [
      "22MCA1079\n",
      "Enter the number: 5\n",
      "Factorial of given number:  120\n"
     ]
    }
   ],
   "source": [
    "print(\"22MCA1079\")\n",
    "def factorial(n):\n",
    "    if n==0 or n==1:\n",
    "        return 1\n",
    "    else:\n",
    "        return n * factorial(n-1)\n",
    "    \n",
    "n = int(input(\"Enter the number: \"))\n",
    "print(\"Factorial of given number: \",factorial(n))"
   ]
  },
  {
   "cell_type": "markdown",
   "metadata": {},
   "source": [
    "# Question 12"
   ]
  },
  {
   "cell_type": "code",
   "execution_count": 12,
   "metadata": {},
   "outputs": [
    {
     "name": "stdout",
     "output_type": "stream",
     "text": [
      "22MCA1079\n",
      "Enter the valu of N: 9\n",
      "{n}th term of Fibonacci series is:  21\n"
     ]
    }
   ],
   "source": [
    "print(\"22MCA1079\")\n",
    "def fibo(n):\n",
    "    if n<=1:\n",
    "        return n\n",
    "    return fibo(n-1) + fibo(n-2)\n",
    "\n",
    "n = int(input(\"Enter the valu of N: \"))\n",
    "print(\"{n}th term of Fibonacci series is: \",fibo(n-1))"
   ]
  }
 ],
 "metadata": {
  "kernelspec": {
   "display_name": "Python 3",
   "language": "python",
   "name": "python3"
  },
  "language_info": {
   "codemirror_mode": {
    "name": "ipython",
    "version": 3
   },
   "file_extension": ".py",
   "mimetype": "text/x-python",
   "name": "python",
   "nbconvert_exporter": "python",
   "pygments_lexer": "ipython3",
   "version": "3.8.5"
  }
 },
 "nbformat": 4,
 "nbformat_minor": 4
}
