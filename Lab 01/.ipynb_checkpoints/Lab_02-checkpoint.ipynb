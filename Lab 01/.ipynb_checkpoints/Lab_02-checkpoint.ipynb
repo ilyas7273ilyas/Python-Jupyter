{
 "cells": [
  {
   "cell_type": "markdown",
   "metadata": {},
   "source": [
    "# Q1. Consider the following sample dataset and write a program to project it in the form of a scatter plot and observe any relationship that exists in between the experience and pay."
   ]
  },
  {
   "cell_type": "code",
   "execution_count": 1,
   "metadata": {},
   "outputs": [
    {
     "data": {
      "image/png": "[encoded data removed]",
      "text/plain": [
       "<Figure size 432x288 with 1 Axes>"
      ]
     },
     "metadata": {
      "needs_background": "light"
     },
     "output_type": "display_data"
    },
    {
     "name": "stdout",
     "output_type": "stream",
     "text": [
      "Covariance:\n"
     ]
    },
    {
     "data": {
      "text/plain": [
       "array([[ 25.28888889, 120.8       ],\n",
       "       [120.8       , 604.54444444]])"
      ]
     },
     "execution_count": 1,
     "metadata": {},
     "output_type": "execute_result"
    }
   ],
   "source": [
    "import numpy as np\n",
    "from numpy import cov\n",
    "import matplotlib.pyplot as plt\n",
    "\n",
    "# Define the data points\n",
    "x = np.array([2,3,5,13,8,16,11,1,9,4]) # Experience\n",
    "y = np.array([15,28,42,64,50,90,58,8,54,30]) # Pay\n",
    "\n",
    "# Plot the data points\n",
    "plt.scatter(x, y)\n",
    "\n",
    "# Add labels and title\n",
    "plt.xlabel('Experience')\n",
    "plt.ylabel('Pay')\n",
    "plt.title('Relationship between Experience and Pay')\n",
    "\n",
    "# Show the plot\n",
    "plt.show()\n",
    "\n",
    "\n",
    "# calculate covariance matrix\n",
    "covariance = np.cov(x,y)\n",
    "print(\"Covariance:\")\n",
    "covariance"
   ]
  },
  {
   "cell_type": "markdown",
   "metadata": {},
   "source": [
    "# 2. Fill(Find) the following table by using the respective values of 𝒙 and y"
   ]
  },
  {
   "cell_type": "code",
   "execution_count": 2,
   "metadata": {},
   "outputs": [
    {
     "name": "stdout",
     "output_type": "stream",
     "text": [
      "Mean of X: 7.2\n",
      "Mean of Y: 43.9\n",
      "    x   y  x-xbar  y-ybar  (x-xbar)*(y-ybar)  (x-xbar)^2\n",
      "0   2  15    -5.2   -28.9             150.28       27.04\n",
      "1   3  28    -4.2   -15.9              66.78       17.64\n",
      "2   5  42    -2.2    -1.9               4.18        4.84\n",
      "3  13  64     5.8    20.1             116.58       33.64\n",
      "4   8  50     0.8     6.1               4.88        0.64\n",
      "5  16  90     8.8    46.1             405.68       77.44\n",
      "6  11  58     3.8    14.1              53.58       14.44\n",
      "7   1   8    -6.2   -35.9             222.58       38.44\n",
      "8   9  54     1.8    10.1              18.18        3.24\n",
      "9   4  30    -3.2   -13.9              44.48       10.24\n",
      "Summation of (x-xbar)*(y-ybar): 1087.2000000000003\n",
      "Summation of (x-xbar)*(y-ybar): 227.60000000000002\n"
     ]
    }
   ],
   "source": [
    "import numpy as np\n",
    "import pandas as pd\n",
    "\n",
    "# Define the data points\n",
    "x = np.array([2,3,5,13,8,16,11,1,9,4]) # Experience\n",
    "y = np.array([15,28,42,64,50,90,58,8,54,30]) # Pay\n",
    "\n",
    "# Calculate the mean\n",
    "x_bar = np.mean(x)\n",
    "y_bar = np.mean(y)\n",
    "print(\"Mean of X:\",x_bar)\n",
    "print(\"Mean of Y:\",y_bar)\n",
    "\n",
    "# Calculate the deviations\n",
    "x_dev = x - x_bar\n",
    "y_dev = y - y_bar\n",
    "\n",
    "# Create the DataFrame\n",
    "df = pd.DataFrame({\n",
    "    'x': x,\n",
    "    'y': y,\n",
    "    'x-xbar': x_dev,\n",
    "    'y-ybar': y_dev,\n",
    "    '(x-xbar)*(y-ybar)': x_dev * y_dev,\n",
    "    '(x-xbar)^2': x_dev ** 2\n",
    "})\n",
    "\n",
    "# Show the DataFrame\n",
    "print(df)\n",
    "\n",
    "#Sum of (x-xbar)*(y-ybar) and (x-xbar)^2\n",
    "print(\"Summation of (x-xbar)*(y-ybar):\",sum(x_dev * y_dev))\n",
    "print(\"Summation of (x-xbar)*(y-ybar):\",sum(x_dev ** 2))\n"
   ]
  },
  {
   "cell_type": "markdown",
   "metadata": {},
   "source": [
    "# Question 3 . Use the above table and solve the following equations (using OLS method) for finding  the values of 𝑤0 and 𝑤1."
   ]
  },
  {
   "cell_type": "code",
   "execution_count": 3,
   "metadata": {
    "scrolled": true
   },
   "outputs": [
    {
     "name": "stdout",
     "output_type": "stream",
     "text": [
      "w1 = 2.14\n",
      "w0 = 28.46\n"
     ]
    }
   ],
   "source": [
    "import pandas as pd\n",
    "import numpy as np\n",
    "\n",
    "# Define the DataFrame\n",
    "df = pd.DataFrame({\n",
    "    'x': [2, 3, 5, 13, 8, 16, 11, 1, 9, 4],\n",
    "    'y': [15, 28, 42, 64, 50, 90, 58, 8, 54, 30],\n",
    "    'x-xbar': [-5.5, -4.5, -2.5, 5.5, 0.5, 8.5, 3.5, -6.5, 1.5, -4.5],\n",
    "    'y-ybar': [-21.5, -8.5, 5.5, 27.5, 13.5, 53.5, 21.5, -28.5, 17.5, -6.5],\n",
    "    '(x-xbar)*(y-ybar)': [116.75, -72.25, -89.75, 156.75, 7.25, 464.25, 78.75, -178.75, 48.75, -24.75],\n",
    "    '(x-xbar)^2': [30.25, 20.25, 6.25, 30.25, 0.25, 72.25, 12.25, 42.25, 2.25, 20.25]\n",
    "})\n",
    "\n",
    "# Calculate the slope (w1) and intercept (w0)\n",
    "w1 = np.sum(df['(x-xbar)*(y-ybar)']) / np.sum(df['(x-xbar)^2'])\n",
    "w0 = np.mean(df['y']) - w1*np.mean(df['x'])\n",
    "\n",
    "# Print the results\n",
    "print(f\"w1 = {w1:.2f}\")\n",
    "print(f\"w0 = {w0:.2f}\")\n"
   ]
  },
  {
   "cell_type": "markdown",
   "metadata": {},
   "source": [
    "# Quetsion 4 Write a python program to find the above two values (𝑤0 and 𝑤1) for any given dataset."
   ]
  },
  {
   "cell_type": "code",
   "execution_count": 4,
   "metadata": {},
   "outputs": [
    {
     "name": "stdout",
     "output_type": "stream",
     "text": [
      "w1 = 4.78\n",
      "w0 = 9.51\n"
     ]
    }
   ],
   "source": [
    "import numpy as np\n",
    "\n",
    "# Define the dataset\n",
    "x = np.array([2, 3, 5, 13, 8, 16, 11, 1, 9, 4]) # Experience\n",
    "y = np.array([15, 28, 42, 64, 50, 90, 58, 8, 54, 30]) # Pay\n",
    "\n",
    "# Calculate the mean of x and y\n",
    "x_bar = np.mean(x)\n",
    "y_bar = np.mean(y)\n",
    "\n",
    "# Calculate the deviations\n",
    "x_dev = x - x_bar\n",
    "y_dev = y - y_bar\n",
    "\n",
    "# Calculate w1 and w0\n",
    "w1 = np.sum(x_dev * y_dev) / np.sum(x_dev**2)\n",
    "w0 = y_bar - w1 * x_bar\n",
    "\n",
    "# Print the results\n",
    "print(f\"w1 = {w1:.2f}\")\n",
    "print(f\"w0 = {w0:.2f}\")\n"
   ]
  },
  {
   "cell_type": "markdown",
   "metadata": {},
   "source": [
    "# 5 Write a python program to find the above two values (𝑤0 and 𝑤1) for any given dataset using Normal Equations."
   ]
  },
  {
   "cell_type": "code",
   "execution_count": 5,
   "metadata": {},
   "outputs": [
    {
     "name": "stdout",
     "output_type": "stream",
     "text": [
      "w0 = 9.51\n",
      "w1 = 4.78\n"
     ]
    }
   ],
   "source": [
    "import numpy as np\n",
    "\n",
    "# Define the dataset\n",
    "x = np.array([2, 3, 5, 13, 8, 16, 11, 1, 9, 4]) # Experience\n",
    "y = np.array([15, 28, 42, 64, 50, 90, 58, 8, 54, 30]) # Pay\n",
    "\n",
    "# Form the matrix X\n",
    "X = np.vstack([np.ones(len(x)), x]).T\n",
    "\n",
    "# Calculate the parameters using normal equations\n",
    "params = np.linalg.inv(X.T.dot(X)).dot(X.T).dot(y)\n",
    "\n",
    "# Get the values of w0 and w1\n",
    "w0 = params[0]\n",
    "w1 = params[1]\n",
    "\n",
    "# Print the results\n",
    "print(f\"w0 = {w0:.2f}\")\n",
    "print(f\"w1 = {w1:.2f}\")\n"
   ]
  },
  {
   "cell_type": "markdown",
   "metadata": {},
   "source": [
    "# 6. Write a python program to find the above two values (𝑤0 and 𝑤1) for any given dataset using gradient descent."
   ]
  },
  {
   "cell_type": "code",
   "execution_count": 6,
   "metadata": {},
   "outputs": [
    {
     "name": "stdout",
     "output_type": "stream",
     "text": [
      "Cost after 0 iterations: 668.98\n",
      "Cost after 100 iterations: 31.95\n",
      "Cost after 200 iterations: 26.90\n",
      "Cost after 300 iterations: 25.39\n",
      "Cost after 400 iterations: 24.95\n",
      "Cost after 500 iterations: 24.81\n",
      "Cost after 600 iterations: 24.77\n",
      "Cost after 700 iterations: 24.76\n",
      "Cost after 800 iterations: 24.76\n",
      "Cost after 900 iterations: 24.76\n",
      "w0 = 9.49\n",
      "w1 = 4.78\n"
     ]
    }
   ],
   "source": [
    "import numpy as np\n",
    "\n",
    "# Define the dataset\n",
    "x = np.array([2, 3, 5, 13, 8, 16, 11, 1, 9, 4]) # Experience\n",
    "y = np.array([15, 28, 42, 64, 50, 90, 58, 8, 54, 30]) # Pay\n",
    "\n",
    "# Define the learning rate and number of iterations\n",
    "learning_rate = 0.01\n",
    "num_iterations = 1000\n",
    "\n",
    "# Initialize the parameters\n",
    "w0 = 0.0\n",
    "w1 = 0.0\n",
    "\n",
    "# Define the cost function\n",
    "def cost_function(x, y, w0, w1):\n",
    "    y_pred = w0 + w1 * x\n",
    "    error = y_pred - y\n",
    "    return np.mean(error**2)\n",
    "\n",
    "# Perform gradient descent\n",
    "for i in range(num_iterations):\n",
    "    # Calculate the gradients\n",
    "    w0_grad = np.mean(2 * (w0 + w1 * x - y))\n",
    "    w1_grad = np.mean(2 * x * (w0 + w1 * x - y))\n",
    "\n",
    "    # Update the parameters\n",
    "    w0 -= learning_rate * w0_grad\n",
    "    w1 -= learning_rate * w1_grad\n",
    "\n",
    "    # Print the cost every 100 iterations\n",
    "    if i % 100 == 0:\n",
    "        cost = cost_function(x, y, w0, w1)\n",
    "        print(f\"Cost after {i} iterations: {cost:.2f}\")\n",
    "\n",
    "# Print the final parameters\n",
    "print(f\"w0 = {w0:.2f}\")\n",
    "print(f\"w1 = {w1:.2f}\")\n"
   ]
  },
  {
   "cell_type": "markdown",
   "metadata": {},
   "source": [
    "# 7. Write a python program to store the above dataset as pandas data-frame and implement linear regression model by splitting the dataset into training set and testing set (80:20)."
   ]
  },
  {
   "cell_type": "code",
   "execution_count": 7,
   "metadata": {},
   "outputs": [
    {
     "name": "stdout",
     "output_type": "stream",
     "text": [
      "Intercept: [8.19902913]\n",
      "Coefficient: [[4.85679612]]\n",
      "R-squared: 0.9061352605608387\n"
     ]
    }
   ],
   "source": [
    "import pandas as pd\n",
    "import numpy as np\n",
    "from sklearn.model_selection import train_test_split\n",
    "from sklearn.linear_model import LinearRegression\n",
    "\n",
    "# Define the dataset\n",
    "x = np.array([2, 3, 5, 13, 8, 16, 11, 1, 9, 4]) # Experience\n",
    "y = np.array([15, 28, 42, 64, 50, 90, 58, 8, 54, 30]) # Pay\n",
    "\n",
    "# Convert the dataset to a Pandas DataFrame\n",
    "data = pd.DataFrame({'experience': x, 'pay': y})\n",
    "\n",
    "# Split the dataset into training and testing sets\n",
    "train_data, test_data = train_test_split(data, test_size=0.2, random_state=42)\n",
    "\n",
    "# Extract the input and output features from the training and testing sets\n",
    "train_X = train_data[['experience']]\n",
    "train_y = train_data[['pay']]\n",
    "test_X = test_data[['experience']]\n",
    "test_y = test_data[['pay']]\n",
    "\n",
    "# Fit the linear regression model to the training data\n",
    "reg = LinearRegression().fit(train_X, train_y)\n",
    "\n",
    "# Print the intercept and coefficient of the linear regression model\n",
    "print(\"Intercept:\", reg.intercept_)\n",
    "print(\"Coefficient:\", reg.coef_)\n",
    "\n",
    "# Make predictions on the testing set and calculate the R-squared score\n",
    "y_pred = reg.predict(test_X)\n",
    "r_squared = reg.score(test_X, test_y)\n",
    "print(\"R-squared:\", r_squared)\n"
   ]
  },
  {
   "cell_type": "markdown",
   "metadata": {},
   "source": [
    "# 8. Identify and display the appropriate metrics for measuring the accuracy of the linear model created above."
   ]
  },
  {
   "cell_type": "code",
   "execution_count": 8,
   "metadata": {},
   "outputs": [
    {
     "name": "stdout",
     "output_type": "stream",
     "text": [
      "MSE: 15.863140965218257\n",
      "RMSE: 3.9828558805483105\n"
     ]
    }
   ],
   "source": [
    "from sklearn.metrics import mean_squared_error\n",
    "\n",
    "# Calculate the MSE for the testing set\n",
    "mse = mean_squared_error(test_y, y_pred)\n",
    "print(\"MSE:\", mse)\n",
    "\n",
    "# Calculate the RMSE for the testing set\n",
    "rmse = mean_squared_error(test_y, y_pred, squared=False)\n",
    "print(\"RMSE:\", rmse)\n"
   ]
  }
 ],
 "metadata": {
  "kernelspec": {
   "display_name": "Python 3",
   "language": "python",
   "name": "python3"
  },
  "language_info": {
   "codemirror_mode": {
    "name": "ipython",
    "version": 3
   },
   "file_extension": ".py",
   "mimetype": "text/x-python",
   "name": "python",
   "nbconvert_exporter": "python",
   "pygments_lexer": "ipython3",
   "version": "3.8.5"
  }
 },
 "nbformat": 4,
 "nbformat_minor": 5
}
