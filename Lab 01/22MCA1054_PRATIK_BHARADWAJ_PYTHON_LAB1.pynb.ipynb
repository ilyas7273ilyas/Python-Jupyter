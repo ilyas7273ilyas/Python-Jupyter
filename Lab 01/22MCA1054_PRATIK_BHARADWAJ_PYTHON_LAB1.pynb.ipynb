{
 "cells": [
  {
   "cell_type": "markdown",
   "metadata": {},
   "source": [
    "# 22MCA1054_PRATIK_BHARADWAJ_PYTHON_LAB1"
   ]
  },
  {
   "cell_type": "markdown",
   "metadata": {},
   "source": [
    "# QUESTION:-1"
   ]
  },
  {
   "cell_type": "markdown",
   "metadata": {},
   "source": [
    "## 1.Write a program to evaluate the expression          D = (x+y)*z**a//b+c          D = (1+2)*3**2//2+3 "
   ]
  },
  {
   "cell_type": "code",
   "execution_count": 1,
   "metadata": {},
   "outputs": [
    {
     "name": "stdout",
     "output_type": "stream",
     "text": [
      "22MCA1054\n"
     ]
    }
   ],
   "source": [
    "print(\"22MCA1054\")\n",
    "a=2\n",
    "b=2\n",
    "c=3\n",
    "x=1\n",
    "y=2\n",
    "z=3\n",
    "D=(x+y)*z**a//b+c"
   ]
  },
  {
   "cell_type": "code",
   "execution_count": 2,
   "metadata": {},
   "outputs": [
    {
     "data": {
      "text/plain": [
       "16"
      ]
     },
     "execution_count": 2,
     "metadata": {},
     "output_type": "execute_result"
    }
   ],
   "source": [
    "D"
   ]
  },
  {
   "cell_type": "code",
   "execution_count": 3,
   "metadata": {},
   "outputs": [],
   "source": [
    "D=(1+2)*3**2//2+3"
   ]
  },
  {
   "cell_type": "code",
   "execution_count": 4,
   "metadata": {},
   "outputs": [
    {
     "data": {
      "text/plain": [
       "16"
      ]
     },
     "execution_count": 4,
     "metadata": {},
     "output_type": "execute_result"
    }
   ],
   "source": [
    "D"
   ]
  },
  {
   "cell_type": "markdown",
   "metadata": {},
   "source": [
    "# QUESTION:-2"
   ]
  },
  {
   "cell_type": "markdown",
   "metadata": {},
   "source": [
    "## 2.Write a program to check whether number is even or not"
   ]
  },
  {
   "cell_type": "code",
   "execution_count": 5,
   "metadata": {
    "scrolled": true
   },
   "outputs": [
    {
     "name": "stdout",
     "output_type": "stream",
     "text": [
      "22MCA1054\n",
      "enter the number: 56\n",
      "number is even\n"
     ]
    }
   ],
   "source": [
    "print(\"22MCA1054\")\n",
    "number=input(\"enter the number: \")\n",
    "x = int (number)%2\n",
    "if x == 0:\n",
    "    print('number is even')\n",
    "else:\n",
    "    print('number is odd')\n"
   ]
  },
  {
   "cell_type": "markdown",
   "metadata": {},
   "source": [
    "# QUESTION:-3"
   ]
  },
  {
   "cell_type": "markdown",
   "metadata": {},
   "source": [
    "## 3.Write a program to convert the temperature from degree centigrade to fahrenheit F=(9*(int(c))/5) +32 "
   ]
  },
  {
   "cell_type": "code",
   "execution_count": 6,
   "metadata": {},
   "outputs": [
    {
     "name": "stdout",
     "output_type": "stream",
     "text": [
      "22MCA1054\n",
      "enter the number in celcious23\n",
      "number in farenheight 73.4\n"
     ]
    }
   ],
   "source": [
    "print(\"22MCA1054\")\n",
    "c = input(\"enter the number in celcious\")\n",
    "f = (9*(int(c))/5)+32\n",
    "print(\"number in farenheight\", f)"
   ]
  },
  {
   "cell_type": "markdown",
   "metadata": {},
   "source": [
    "# QUESTION:-4"
   ]
  },
  {
   "cell_type": "markdown",
   "metadata": {},
   "source": [
    "## 4.Write a program to find the average of a set of n numbers "
   ]
  },
  {
   "cell_type": "code",
   "execution_count": 7,
   "metadata": {
    "scrolled": true
   },
   "outputs": [
    {
     "name": "stdout",
     "output_type": "stream",
     "text": [
      "22MCA1054\n",
      "Enter the count of numbers: 3\n",
      "enter an integer: 12\n",
      "enter an integer: 15\n",
      "enter an integer: 23\n",
      "the average is:  16.666666666666668\n"
     ]
    }
   ],
   "source": [
    "print(\"22MCA1054\")\n",
    "count= int(input(\"Enter the count of numbers: \"))\n",
    "i =0\n",
    "sum=0\n",
    "for i in range(count):\n",
    "    x = int(input(\"enter an integer: \"))\n",
    "    sum = sum + x\n",
    "avg = sum/count\n",
    "print(\"the average is: \",avg)\n",
    "           "
   ]
  },
  {
   "cell_type": "markdown",
   "metadata": {},
   "source": [
    "# QUESTION:-5"
   ]
  },
  {
   "cell_type": "markdown",
   "metadata": {},
   "source": [
    "## 5.Write a program to find the product of a set of real numbers"
   ]
  },
  {
   "cell_type": "code",
   "execution_count": 8,
   "metadata": {
    "scrolled": true
   },
   "outputs": [
    {
     "name": "stdout",
     "output_type": "stream",
     "text": [
      "22MCA1054\n",
      "Enter the count of real numbers: 3\n",
      "enter an floating number: 2\n",
      "enter an floating number: 3.5\n",
      "enter an floating number: 6.1\n",
      "the product of real number is:  42.699999999999996\n"
     ]
    }
   ],
   "source": [
    "print(\"22MCA1054\")\n",
    "count= int(input(\"Enter the count of real numbers: \"))\n",
    "i =0\n",
    "product =1\n",
    "for i in range(count):\n",
    "    x = float(input(\"enter an floating number: \"))\n",
    "    product = product * x\n",
    "print(\"the product of real number is: \",product)"
   ]
  },
  {
   "cell_type": "markdown",
   "metadata": {},
   "source": [
    "# QUESTION:-6"
   ]
  },
  {
   "cell_type": "markdown",
   "metadata": {},
   "source": [
    "## 6.Write a program to find the circumference and area of a circle given the radius"
   ]
  },
  {
   "cell_type": "code",
   "execution_count": 9,
   "metadata": {},
   "outputs": [
    {
     "name": "stdout",
     "output_type": "stream",
     "text": [
      "22MCA1054\n",
      "enter thye radius6\n",
      "area of circle 113.328\n"
     ]
    }
   ],
   "source": [
    "print(\"22MCA1054\")\n",
    "r= int(input(\"enter thye radius\"))\n",
    "area=3.148*r*r\n",
    "print(\"area of circle\", area)"
   ]
  },
  {
   "cell_type": "code",
   "execution_count": 10,
   "metadata": {
    "scrolled": true
   },
   "outputs": [
    {
     "name": "stdout",
     "output_type": "stream",
     "text": [
      "22MCA1054\n",
      "circumference of a circle 226.656\n"
     ]
    }
   ],
   "source": [
    "print(\"22MCA1054\")\n",
    "c=2*3.148*r**2\n",
    "print(\"circumference of a circle\", c)"
   ]
  },
  {
   "cell_type": "markdown",
   "metadata": {},
   "source": [
    "# QUESTION:-7"
   ]
  },
  {
   "cell_type": "markdown",
   "metadata": {},
   "source": [
    "## 7.Write a program to display the given integer in a reverse manner "
   ]
  },
  {
   "cell_type": "code",
   "execution_count": 11,
   "metadata": {
    "scrolled": true
   },
   "outputs": [
    {
     "name": "stdout",
     "output_type": "stream",
     "text": [
      "22MCA1054\n",
      "654321\n"
     ]
    }
   ],
   "source": [
    "print(\"22MCA1054\")\n",
    "num = 123456\n",
    "print(str(num)[::-1])"
   ]
  },
  {
   "cell_type": "markdown",
   "metadata": {},
   "source": [
    "# QUESTION:-8"
   ]
  },
  {
   "cell_type": "markdown",
   "metadata": {},
   "source": [
    "## 8.Write a program to display all numbers of multiples of 3 within the range 10 to 50. "
   ]
  },
  {
   "cell_type": "code",
   "execution_count": 12,
   "metadata": {},
   "outputs": [
    {
     "name": "stdout",
     "output_type": "stream",
     "text": [
      "22MCA1054\n",
      "THREE 12\n",
      "THREE 15\n",
      "THREE 18\n",
      "THREE 21\n",
      "THREE 24\n",
      "THREE 27\n",
      "THREE 30\n",
      "THREE 33\n",
      "THREE 36\n",
      "THREE 39\n",
      "THREE 42\n",
      "THREE 45\n",
      "THREE 48\n"
     ]
    }
   ],
   "source": [
    "print(\"22MCA1054\")\n",
    "for x in range(10, 50):\n",
    "    if x % 3 == 0:\n",
    "        print(\"THREE\", x)"
   ]
  },
  {
   "cell_type": "markdown",
   "metadata": {},
   "source": [
    "# QUESTION:-9"
   ]
  },
  {
   "cell_type": "markdown",
   "metadata": {},
   "source": [
    "## 9.Write a program to generate the prime numbers from 1 to N "
   ]
  },
  {
   "cell_type": "code",
   "execution_count": 13,
   "metadata": {
    "scrolled": true
   },
   "outputs": [
    {
     "name": "stdout",
     "output_type": "stream",
     "text": [
      "22MCA1054\n",
      "enter the from 2 to ?: 100\n",
      "2\n",
      "3\n",
      "5\n",
      "7\n",
      "11\n",
      "13\n",
      "17\n",
      "19\n",
      "23\n",
      "29\n",
      "31\n",
      "37\n",
      "41\n",
      "43\n",
      "47\n",
      "53\n",
      "59\n",
      "61\n",
      "67\n",
      "71\n",
      "73\n",
      "79\n",
      "83\n",
      "89\n",
      "97\n"
     ]
    }
   ],
   "source": [
    "# calculating for 2 to n as 1 is not  prime number\n",
    "print(\"22MCA1054\")\n",
    "n=int(input(\"enter the from 2 to ?: \"))\n",
    "for num in range(2,n):\n",
    "    prime = True\n",
    "    for i in range(2,num):\n",
    "        if (num%i==0):\n",
    "            prime = False\n",
    "    if prime:\n",
    "       print (num)"
   ]
  },
  {
   "cell_type": "markdown",
   "metadata": {},
   "source": [
    "# QUESTION:-10"
   ]
  },
  {
   "cell_type": "markdown",
   "metadata": {},
   "source": [
    "## 10. Write a program to find the roots of a quadratic equation"
   ]
  },
  {
   "cell_type": "code",
   "execution_count": 14,
   "metadata": {},
   "outputs": [
    {
     "name": "stdout",
     "output_type": "stream",
     "text": [
      "22MCA1054\n",
      "The roots are\n",
      "(-1+0j)\n",
      "(-1+0j)\n"
     ]
    }
   ],
   "source": [
    "# import complex math module\n",
    "# general equation for quadratic equation ax^2 + bx +c = 0\n",
    "# and x = (-b-cmath.sqrt(d))/(2 * a)\n",
    "# and d = (b**2) - (4 * a*c)\n",
    "print(\"22MCA1054\")\n",
    "import cmath\n",
    "\n",
    "a = 1\n",
    "b = 2\n",
    "c = 1\n",
    "\n",
    "# calculating the discriminant\n",
    "d = (b**2) - (4 * a*c)\n",
    "\n",
    "# find two roots\n",
    "x1 = (-b-cmath.sqrt(d))/(2 * a)\n",
    "x2 = (-b + cmath.sqrt(d))/(2 * a)\n",
    "\n",
    "# printing the roots\n",
    "print('The roots are')\n",
    "print(x1)\n",
    "print(x2)\n"
   ]
  },
  {
   "cell_type": "markdown",
   "metadata": {},
   "source": [
    "# QUESTION:-11"
   ]
  },
  {
   "cell_type": "markdown",
   "metadata": {},
   "source": [
    "## 11.Write a program to find the factorial of a given number using recursion "
   ]
  },
  {
   "cell_type": "code",
   "execution_count": 15,
   "metadata": {
    "scrolled": false
   },
   "outputs": [
    {
     "name": "stdout",
     "output_type": "stream",
     "text": [
      "22MCA1054\n",
      "enter the number :6\n",
      "The factorial of 6 is 720\n"
     ]
    }
   ],
   "source": [
    "print(\"22MCA1054\")\n",
    "def recur_factorial(n):\n",
    "   if n == 1:\n",
    "       return n\n",
    "   else:\n",
    "       return n*recur_factorial(n-1)\n",
    "\n",
    "num = int(input(\"enter the number :\"))\n",
    "\n",
    "if num < 0:\n",
    "   print(\"Sorry, factorial does not exist for negative numbers\")\n",
    "elif num == 0:\n",
    "   print(\"The factorial of 0 is 1\")\n",
    "else:\n",
    "   print(\"The factorial of\", num, \"is\", recur_factorial(num))"
   ]
  },
  {
   "cell_type": "markdown",
   "metadata": {},
   "source": [
    "# QUESTION:-12"
   ]
  },
  {
   "cell_type": "markdown",
   "metadata": {},
   "source": [
    "## 12.Write a program to find the Nth term in a Fibonacci series using recursion "
   ]
  },
  {
   "cell_type": "code",
   "execution_count": 16,
   "metadata": {},
   "outputs": [
    {
     "name": "stdout",
     "output_type": "stream",
     "text": [
      "22MCA1054\n",
      "Enter the terms6\n",
      "0 1 1 2 3 5 "
     ]
    }
   ],
   "source": [
    "print(\"22MCA1054\")\n",
    "a=int(input(\"Enter the terms\"))\n",
    "f=0 \n",
    "s=1\n",
    "if a<=0:\n",
    "    print(\"The requested series is \",f)\n",
    "else:\n",
    "    print(f,s,end=\" \")\n",
    "    for x in range(2,a):\n",
    "        next=f+s                           \n",
    "        print(next,end=\" \")\n",
    "        f=s\n",
    "        s=next"
   ]
  }
 ],
 "metadata": {
  "kernelspec": {
   "display_name": "Python 3",
   "language": "python",
   "name": "python3"
  },
  "language_info": {
   "codemirror_mode": {
    "name": "ipython",
    "version": 3
   },
   "file_extension": ".py",
   "mimetype": "text/x-python",
   "name": "python",
   "nbconvert_exporter": "python",
   "pygments_lexer": "ipython3",
   "version": "3.8.5"
  }
 },
 "nbformat": 4,
 "nbformat_minor": 5
}
