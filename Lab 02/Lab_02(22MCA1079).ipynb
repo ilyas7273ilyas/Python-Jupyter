{
 "cells": [
  {
   "cell_type": "markdown",
   "metadata": {},
   "source": [
    "# ITA6017 Python Programming \n",
    "# ILIYAS ANSARI (22MCA1079)"
   ]
  },
  {
   "cell_type": "markdown",
   "metadata": {},
   "source": [
    "# 1. Make a program that asks the number between 1 and 10. If the number is out of range the program should display “invalid number”."
   ]
  },
  {
   "cell_type": "code",
   "execution_count": 1,
   "metadata": {},
   "outputs": [
    {
     "name": "stdout",
     "output_type": "stream",
     "text": [
      "Enter the number between 1 to 10: 9\n",
      "Valid\n"
     ]
    }
   ],
   "source": [
    "print(\"ILIYAS ANSARI 22MCA1079\")\n",
    "print(\"\")\n",
    "\n",
    "num = int(input(\"Enter the number between 1 to 10: \"))\n",
    "if (num>10 or num<1):\n",
    "    print(\"Invalid Number\")\n",
    "else:\n",
    "    print(\"Valid\")"
   ]
  },
  {
   "cell_type": "markdown",
   "metadata": {},
   "source": [
    "# 2. Make a program that lists the countries in the set clist =     ['Canada','USA','Mexico','Australia']"
   ]
  },
  {
   "cell_type": "code",
   "execution_count": 2,
   "metadata": {},
   "outputs": [
    {
     "name": "stdout",
     "output_type": "stream",
     "text": [
      "ILIYAS ANSARI 22MCA1079\n",
      "\n",
      "['Canada', 'USA', 'Mexico', 'Australia']\n"
     ]
    }
   ],
   "source": [
    "print(\"ILIYAS ANSARI 22MCA1079\")\n",
    "print(\"\")\n",
    "\n",
    "clist = ['Canada','USA','Mexico','Australia']\n",
    "print(clist)"
   ]
  },
  {
   "cell_type": "markdown",
   "metadata": {},
   "source": [
    "# 3. Create a loop that counts from 0 to 100"
   ]
  },
  {
   "cell_type": "code",
   "execution_count": 3,
   "metadata": {},
   "outputs": [
    {
     "name": "stdout",
     "output_type": "stream",
     "text": [
      "ILIYAS ANSARI 22MCA1079\n",
      "\n",
      "0 1 2 3 4 5 6 7 8 9 10 11 12 13 14 15 16 17 18 19 20 21 22 23 24 25 26 27 28 29 30 31 32 33 34 35 36 37 38 39 40 41 42 43 44 45 46 47 48 49 50 51 52 53 54 55 56 57 58 59 60 61 62 63 64 65 66 67 68 69 70 71 72 73 74 75 76 77 78 79 80 81 82 83 84 85 86 87 88 89 90 91 92 93 94 95 96 97 98 99 100 "
     ]
    }
   ],
   "source": [
    "print(\"ILIYAS ANSARI 22MCA1079\")\n",
    "print(\"\")\n",
    "\n",
    "for i in range(0,101):\n",
    "    print(i, end=\" \")"
   ]
  },
  {
   "cell_type": "markdown",
   "metadata": {},
   "source": [
    "# 4. Make a multiplication table using a loop¶"
   ]
  },
  {
   "cell_type": "code",
   "execution_count": 4,
   "metadata": {},
   "outputs": [
    {
     "name": "stdout",
     "output_type": "stream",
     "text": [
      "ILIYAS ANSARI 22MCA1079\n",
      "\n",
      "Enter the num: 8\n",
      "Table of 8 is : \n",
      "\t8X1=8\n",
      "\t8X2=16\n",
      "\t8X3=24\n",
      "\t8X4=32\n",
      "\t8X5=40\n",
      "\t8X6=48\n",
      "\t8X7=56\n",
      "\t8X8=64\n",
      "\t8X9=72\n",
      "\t8X10=80\n"
     ]
    }
   ],
   "source": [
    "print(\"ILIYAS ANSARI 22MCA1079\")\n",
    "print(\"\")\n",
    "\n",
    "num = int(input(\"Enter the num: \"))\n",
    "print(\"Table of\",num ,\"is : \")\n",
    "for i in range(1,11):\n",
    "    print(f\"\\t{num}X{i}={num*i}\")"
   ]
  },
  {
   "cell_type": "markdown",
   "metadata": {},
   "source": [
    "# 5. Output the numbers 1 to 10 backwards using a loop"
   ]
  },
  {
   "cell_type": "code",
   "execution_count": 5,
   "metadata": {},
   "outputs": [
    {
     "name": "stdout",
     "output_type": "stream",
     "text": [
      "ILIYAS ANSARI 22MCA1079\n",
      "\n",
      "Numbers from 1 to 10 in backward direction:\n",
      "10 9 8 7 6 5 4 3 2 1 "
     ]
    }
   ],
   "source": [
    "print(\"ILIYAS ANSARI 22MCA1079\")\n",
    "print(\"\")\n",
    "\n",
    "print(\"Numbers from 1 to 10 in backward direction:\")\n",
    "for i in range(10,0,-1):\n",
    "    print(i, end=\" \")"
   ]
  },
  {
   "cell_type": "markdown",
   "metadata": {},
   "source": [
    "# 6. Create a loop that counts all even numbers to 10"
   ]
  },
  {
   "cell_type": "code",
   "execution_count": 6,
   "metadata": {},
   "outputs": [
    {
     "name": "stdout",
     "output_type": "stream",
     "text": [
      "ILIYAS ANSARI 22MCA1079\n",
      "\n",
      "Numbers of even numbers upto 10: 5\n"
     ]
    }
   ],
   "source": [
    "print(\"ILIYAS ANSARI 22MCA1079\")\n",
    "print(\"\")\n",
    "\n",
    "n=0\n",
    "for i in range(1,11):\n",
    "    if i%2==0:\n",
    "        n+=1\n",
    "print(f\"Numbers of even numbers upto 10: {n}\")"
   ]
  },
  {
   "cell_type": "markdown",
   "metadata": {},
   "source": [
    "# 7. Create a loop that sums the numbers from 100 to 200"
   ]
  },
  {
   "cell_type": "code",
   "execution_count": 7,
   "metadata": {},
   "outputs": [
    {
     "name": "stdout",
     "output_type": "stream",
     "text": [
      "ILIYAS ANSARI 22MCA1079\n",
      "\n",
      "Sum from 100 to 200:  15150\n"
     ]
    }
   ],
   "source": [
    "print(\"ILIYAS ANSARI 22MCA1079\")\n",
    "print(\"\")\n",
    "\n",
    "sum=0\n",
    "for i in range(100,201):\n",
    "    sum += i\n",
    "print(\"Sum from 100 to 200: \",sum)"
   ]
  },
  {
   "cell_type": "markdown",
   "metadata": {},
   "source": [
    "# 8. Make a program that lists the countries in the set below using a while loop. clist = [\"Canada\",\"USA\",\"Mexico\"]"
   ]
  },
  {
   "cell_type": "code",
   "execution_count": 8,
   "metadata": {},
   "outputs": [
    {
     "name": "stdout",
     "output_type": "stream",
     "text": [
      "ILIYAS ANSARI 22MCA1079\n",
      "\n",
      "\t Canada\n",
      "\t USA\n",
      "\t Mexico\n"
     ]
    }
   ],
   "source": [
    "print(\"ILIYAS ANSARI 22MCA1079\")\n",
    "print(\"\")\n",
    "\n",
    "# clist = set()\n",
    "# n=0\n",
    "# while(n<3):\n",
    "#     clist.add(input(\"Enter the country name: \"))\n",
    "#     n += 1\n",
    "# print(\"Elements of Lists are: \",clist)\n",
    "\n",
    "clist = [\"Canada\",\"USA\",\"Mexico\"]\n",
    "n = len(clist)\n",
    "i=0\n",
    "while i<n:\n",
    "    print(\"\\t\", clist[i])\n",
    "    i += 1"
   ]
  },
  {
   "cell_type": "markdown",
   "metadata": {},
   "source": [
    "# 9. Make a program that displays the states in the U.S. states = [ 'Alabama', .. ,'Wyoming' ] Display all states starting with the letter M."
   ]
  },
  {
   "cell_type": "code",
   "execution_count": 9,
   "metadata": {},
   "outputs": [
    {
     "name": "stdout",
     "output_type": "stream",
     "text": [
      "ILIYAS ANSARI 22MCA1079\n",
      "\n",
      "States of America starting with M is : \n",
      "Maine\n",
      "Maryland\n",
      "Massachusetts\n",
      "Michigan\n",
      "Minnesota\n",
      "Mississippi\n",
      "Missouri\n",
      "Montana\n"
     ]
    }
   ],
   "source": [
    "print(\"ILIYAS ANSARI 22MCA1079\")\n",
    "print(\"\")\n",
    "\n",
    "#I found all the list of states from internet and stored in a list \n",
    "\n",
    "states = ['Alabama', 'Alaska', 'Arizona', 'Arkansas', 'California', 'Colorado', 'Connecticut', 'Delaware', \n",
    "          'Florida', 'Georgia', 'Hawaii', 'Idaho', 'Illinois', 'Indiana', 'Iowa', 'Kansas', 'Kentucky',\n",
    "          'Louisiana', 'Maine', 'Maryland', 'Massachusetts', 'Michigan', 'Minnesota', 'Mississippi', \n",
    "          'Missouri', 'Montana', 'Nebraska', 'Nevada', 'New Hampshire', 'New Jersey', 'New Mexico', \n",
    "          'New York', 'North Carolina', 'North Dakota', 'Ohio', 'Oklahoma', 'Oregon', 'Pennsylvania', \n",
    "          'Rhode Island', 'South Carolina', 'South Dakota', 'Tennessee', 'Texas', 'Utah', 'Vermont', \n",
    "          'Virginia', 'Washington', 'West Virginia', 'Wisconsin', 'Wyoming']\n",
    "\n",
    "print(\"States of America starting with M is : \")\n",
    "for state in states:\n",
    "    if state.startswith('M'):\n",
    "        print(state)"
   ]
  },
  {
   "cell_type": "markdown",
   "metadata": {},
   "source": [
    "# 10. Write a program which accepts a sequence of comma-separated numbers from console and generate a list and a tuple which contains every number. Suppose the following input is supplied to the program: 34, 67, 55, 33, 12, 98. Then, the output should be: ['34', '67', '55', '33', '12', '98'] ('34',67', '55', '33', '12', '98')."
   ]
  },
  {
   "cell_type": "code",
   "execution_count": 10,
   "metadata": {},
   "outputs": [
    {
     "name": "stdout",
     "output_type": "stream",
     "text": [
      "ILIYAS ANSARI 22MCA1079\n",
      "\n",
      "Enter comma-separated numbers: 34,67,55,33,12,98\n",
      "Expected output is : \n",
      "['34', '67', '55', '33', '12', '98']\n",
      "('34', '67', '55', '33', '12', '98')\n"
     ]
    }
   ],
   "source": [
    "print(\"ILIYAS ANSARI 22MCA1079\")\n",
    "print(\"\")\n",
    "\n",
    "user_input = input(\"Enter comma-separated numbers: \")\n",
    "numbers = user_input.split(\",\")\n",
    "print(\"Expected output is : \")\n",
    "print(numbers)\n",
    "print(tuple(numbers))"
   ]
  },
  {
   "cell_type": "markdown",
   "metadata": {},
   "source": [
    "# 11.With a given tuple (1, 2, 3, 4, 5, 6, 7, 8, 9, 10), write a program to print the first half values in one line and the last half values in one line"
   ]
  },
  {
   "cell_type": "code",
   "execution_count": 11,
   "metadata": {},
   "outputs": [
    {
     "name": "stdout",
     "output_type": "stream",
     "text": [
      "ILIYAS ANSARI 22MCA1079\n",
      "\n",
      "Tuple is :  (1, 2, 3, 4, 5, 6, 7, 8, 9, 10)\n",
      "First half is :  (1, 2, 3, 4, 5)\n",
      "Second half is : (6, 7, 8, 9, 10)\n"
     ]
    }
   ],
   "source": [
    "print(\"ILIYAS ANSARI 22MCA1079\")\n",
    "print(\"\")\n",
    "\n",
    "t = (1, 2, 3, 4, 5, 6, 7, 8, 9, 10)\n",
    "print(\"Tuple is : \",t)\n",
    "half = len(t)//2\n",
    "print(\"First half is : \",t[:half])\n",
    "print(\"Second half is :\",t[half:])"
   ]
  },
  {
   "cell_type": "markdown",
   "metadata": {},
   "source": [
    "# 12. Find \n",
    "# a) The sum and average of given numbers using lists."
   ]
  },
  {
   "cell_type": "code",
   "execution_count": 12,
   "metadata": {},
   "outputs": [
    {
     "name": "stdout",
     "output_type": "stream",
     "text": [
      "ILIYAS ANSARI 22MCA1079\n",
      "\n",
      "[1, 2, 3, 4, 5, 6, 7, 8, 9]\n",
      "Sum of all elements of the list is :  45\n",
      "Aveerage of all numbers of the list is :  5.0\n"
     ]
    }
   ],
   "source": [
    "print(\"ILIYAS ANSARI 22MCA1079\")\n",
    "print(\"\")\n",
    "\n",
    "sum=0\n",
    "list1 = [1,2,3,4,5,6,7,8,9]\n",
    "print(list1)\n",
    "for i in list1:\n",
    "    sum+=i\n",
    "print(\"Sum of all elements of the list is : \",sum)\n",
    "print(\"Aveerage of all numbers of the list is : \",sum/len(list1))"
   ]
  },
  {
   "cell_type": "markdown",
   "metadata": {},
   "source": [
    "# b) To display elements of list in reverse order."
   ]
  },
  {
   "cell_type": "code",
   "execution_count": 13,
   "metadata": {},
   "outputs": [
    {
     "name": "stdout",
     "output_type": "stream",
     "text": [
      "ILIYAS ANSARI 22MCA1079\n",
      "\n",
      "Elements of lists:  [1, 2, 3, 4, 5, 6, 7, 8, 9]\n",
      "Elements of lists in reverse order:  [9, 8, 7, 6, 5, 4, 3, 2, 1]\n"
     ]
    }
   ],
   "source": [
    "print(\"ILIYAS ANSARI 22MCA1079\")\n",
    "print(\"\")\n",
    "\n",
    "print(\"Elements of lists: \",list1)\n",
    "print(\"Elements of lists in reverse order: \",list1[::-1])"
   ]
  },
  {
   "cell_type": "markdown",
   "metadata": {},
   "source": [
    "# c) Finding the minimum and maximum elements in the lists."
   ]
  },
  {
   "cell_type": "code",
   "execution_count": 14,
   "metadata": {},
   "outputs": [
    {
     "name": "stdout",
     "output_type": "stream",
     "text": [
      "ILIYAS ANSARI 22MCA1079\n",
      "\n",
      "Maximum Element from list:  9\n",
      "Minimum Element from list:  1\n"
     ]
    }
   ],
   "source": [
    "print(\"ILIYAS ANSARI 22MCA1079\")\n",
    "print(\"\")\n",
    "\n",
    "print(\"Maximum Element from list: \", max(list1))\n",
    "print(\"Minimum Element from list: \", min(list1))"
   ]
  }
 ],
 "metadata": {
  "kernelspec": {
   "display_name": "Python 3",
   "language": "python",
   "name": "python3"
  },
  "language_info": {
   "codemirror_mode": {
    "name": "ipython",
    "version": 3
   },
   "file_extension": ".py",
   "mimetype": "text/x-python",
   "name": "python",
   "nbconvert_exporter": "python",
   "pygments_lexer": "ipython3",
   "version": "3.8.5"
  }
 },
 "nbformat": 4,
 "nbformat_minor": 4
}
