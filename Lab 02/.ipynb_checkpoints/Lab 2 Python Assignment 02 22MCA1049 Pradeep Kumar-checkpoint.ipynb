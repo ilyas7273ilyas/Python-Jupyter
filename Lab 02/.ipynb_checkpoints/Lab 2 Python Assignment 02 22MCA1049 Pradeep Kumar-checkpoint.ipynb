{
 "cells": [
  {
   "cell_type": "markdown",
   "metadata": {},
   "source": [
    "# ITA6017 Python Programming : Assignment No.2 "
   ]
  },
  {
   "cell_type": "markdown",
   "metadata": {},
   "source": [
    "# Pradeep Kumar 22MCA1049"
   ]
  },
  {
   "cell_type": "markdown",
   "metadata": {
    "vscode": {
     "languageId": "plaintext"
    }
   },
   "source": [
    "## 1. Make a program that asks the number between 1 and 10. If the number is out of range the program should display “invalid number”."
   ]
  },
  {
   "cell_type": "code",
   "execution_count": 182,
   "metadata": {
    "vscode": {
     "languageId": "plaintext"
    }
   },
   "outputs": [
    {
     "name": "stdout",
     "output_type": "stream",
     "text": [
      "Pradeep Kumar 22MCA1049\n",
      "\n",
      "Enter Number between 1 to 10 : 7\n",
      "Valid Number\n"
     ]
    }
   ],
   "source": [
    "print(\"Pradeep Kumar 22MCA1049\")\n",
    "print(\"\")\n",
    "num = int(input(\"Enter Number between 1 to 10 : \"))\n",
    "\n",
    "if num<1 or num>10:\n",
    "    print(\"Invalid Number\")\n",
    "else:\n",
    "    print(\"Valid Number\")"
   ]
  },
  {
   "cell_type": "markdown",
   "metadata": {
    "vscode": {
     "languageId": "plaintext"
    }
   },
   "source": [
    "## 2. Make a program that lists the countries in the set clist = ['Canada','USA','Mexico','Australia']"
   ]
  },
  {
   "cell_type": "code",
   "execution_count": 183,
   "metadata": {},
   "outputs": [
    {
     "name": "stdout",
     "output_type": "stream",
     "text": [
      "Pradeep Kumar 22MCA1049\n",
      "\n",
      "List of Countries is : \n",
      " ['Canada', 'USA', 'Mexico', 'Australia']\n"
     ]
    }
   ],
   "source": [
    "print(\"Pradeep Kumar 22MCA1049\")\n",
    "print(\"\")\n",
    "list = ['Canada','USA','Mexico','Australia']\n",
    "print(\"List of Countries is : \\n\",list)"
   ]
  },
  {
   "cell_type": "markdown",
   "metadata": {},
   "source": [
    "## 3. Create a loop that counts from 0 to 100"
   ]
  },
  {
   "cell_type": "code",
   "execution_count": 184,
   "metadata": {},
   "outputs": [
    {
     "name": "stdout",
     "output_type": "stream",
     "text": [
      "Pradeep Kumar 22MCA1049\n",
      "\n",
      "Counting of numbers from 1 to 100 is :\n",
      "\n",
      "1 2 3 4 5 6 7 8 9 10 11 12 13 14 15 16 17 18 19 20 21 22 23 24 25 26 27 28 29 30 31 32 33 34 35 36 37 38 39 40 41 42 43 44 45 46 47 48 49 50 51 52 53 54 55 56 57 58 59 60 61 62 63 64 65 66 67 68 69 70 71 72 73 74 75 76 77 78 79 80 81 82 83 84 85 86 87 88 89 90 91 92 93 94 95 96 97 98 99 100 "
     ]
    }
   ],
   "source": [
    "print(\"Pradeep Kumar 22MCA1049\")\n",
    "print(\"\")\n",
    "print(\"Counting of numbers from 1 to 100 is :\\n\")\n",
    "for i in range (1,101):\n",
    "    print(i,end=\" \")"
   ]
  },
  {
   "cell_type": "markdown",
   "metadata": {},
   "source": [
    "## 4. Make a multiplication table using a loop "
   ]
  },
  {
   "cell_type": "code",
   "execution_count": 110,
   "metadata": {},
   "outputs": [
    {
     "name": "stdout",
     "output_type": "stream",
     "text": [
      "Pradeep Kumar 22MCA1049\n",
      "\n",
      "Enter number to generate table of that number : 9\n",
      "Table of 9 is : \n",
      "\t 9 * 1 = 9\n",
      "\t 9 * 2 = 18\n",
      "\t 9 * 3 = 27\n",
      "\t 9 * 4 = 36\n",
      "\t 9 * 5 = 45\n",
      "\t 9 * 6 = 54\n",
      "\t 9 * 7 = 63\n",
      "\t 9 * 8 = 72\n",
      "\t 9 * 9 = 81\n",
      "\t 9 * 10 = 90\n"
     ]
    }
   ],
   "source": [
    "print(\"Pradeep Kumar 22MCA1049\")\n",
    "print(\"\")\n",
    "i =1\n",
    "table = int(input(\"Enter number to generate table of that number : \"))\n",
    "print(\"Table of\",table ,\"is : \")\n",
    "for i in range (1,11):\n",
    "    print (\"\\t\",table,\"*\",i,\"=\",i*table,)"
   ]
  },
  {
   "cell_type": "markdown",
   "metadata": {},
   "source": [
    "## 5. Output the numbers 1 to 10 backwards using a loop "
   ]
  },
  {
   "cell_type": "code",
   "execution_count": 111,
   "metadata": {},
   "outputs": [
    {
     "name": "stdout",
     "output_type": "stream",
     "text": [
      "Pradeep Kumar 22MCA1049\n",
      "\n",
      "Numbers in forward order from 1 to 10 is : \n",
      "1 2 3 4 5 6 7 8 9 10 \n",
      "Numbers in backwards order from 10 to 1 is : \n",
      "10 9 8 7 6 5 4 3 2 1 "
     ]
    }
   ],
   "source": [
    "print(\"Pradeep Kumar 22MCA1049\")\n",
    "print(\"\")\n",
    "print(\"Numbers in forward order from 1 to 10 is : \")\n",
    "i = 1\n",
    "for i in range(1,11):\n",
    "    print(i, end=\" \")\n",
    "    \n",
    "print(\"\\nNumbers in backwards order from 10 to 1 is : \")\n",
    "j=1\n",
    "for j in range(10,0,-1):\n",
    "    print(j, end = \" \")"
   ]
  },
  {
   "cell_type": "markdown",
   "metadata": {},
   "source": [
    "## 6. Create a loop that counts all even numbers to 10"
   ]
  },
  {
   "cell_type": "code",
   "execution_count": 112,
   "metadata": {},
   "outputs": [
    {
     "name": "stdout",
     "output_type": "stream",
     "text": [
      "Pradeep Kumar 22MCA1049\n",
      "\n",
      "Number of Odd Numbers from 1 to 10 is :  5\n"
     ]
    }
   ],
   "source": [
    "print(\"Pradeep Kumar 22MCA1049\")\n",
    "print(\"\")\n",
    "n=0\n",
    "for i in range (1,11):\n",
    "    if i%2==0:\n",
    "        n=n+1\n",
    "print(\"Number of Odd Numbers from 1 to 10 is : \",n)"
   ]
  },
  {
   "cell_type": "markdown",
   "metadata": {},
   "source": [
    "## 7. Create a loop that sums the numbers from 100 to 200 "
   ]
  },
  {
   "cell_type": "code",
   "execution_count": 119,
   "metadata": {},
   "outputs": [
    {
     "name": "stdout",
     "output_type": "stream",
     "text": [
      "Pradeep Kumar 22MCA1049\n",
      "\n",
      "Using for loop : \n",
      "Sum of numbers from 100 to 200 is :  15150\n",
      "Using while loop : \n",
      "Sum of numbers from 100 to 200 is :  15150\n"
     ]
    }
   ],
   "source": [
    "print(\"Pradeep Kumar 22MCA1049\")\n",
    "print(\"\")\n",
    "sum = 0\n",
    "print(\"Using for loop : \")\n",
    "for i in range (100,201):\n",
    "    sum+=i\n",
    "print(\"Sum of numbers from 100 to 200 is : \",sum)\n",
    "\n",
    "print(\"Using while loop : \")\n",
    "j=100\n",
    "sum =0\n",
    "while j<=200:\n",
    "    sum+=j\n",
    "    j+=1\n",
    "print(\"Sum of numbers from 100 to 200 is : \",sum)"
   ]
  },
  {
   "cell_type": "markdown",
   "metadata": {},
   "source": [
    "## 8. Make a program that lists the countries in the set below using a while loop. clist = [\"Canada\",\"USA\",\"Mexico\"]\n"
   ]
  },
  {
   "cell_type": "code",
   "execution_count": 133,
   "metadata": {},
   "outputs": [
    {
     "name": "stdout",
     "output_type": "stream",
     "text": [
      "Pradeep Kumar 22MCA1049\n",
      "\n",
      "List of countries is : \n",
      "\t Canada\n",
      "\t USA\n",
      "\t Mexico\n"
     ]
    }
   ],
   "source": [
    "print(\"Pradeep Kumar 22MCA1049\")\n",
    "print(\"\")\n",
    "clist = [\"Canada\",\"USA\",\"Mexico\"]\n",
    "len(clist)\n",
    "i=0\n",
    "print(\"List of countries is : \")\n",
    "while i<=len(clist)-1:\n",
    "    print(\"\\t\",clist[0+i])\n",
    "    i+=1"
   ]
  },
  {
   "cell_type": "markdown",
   "metadata": {},
   "source": [
    "## 9. Make a program that displays the states in the U.S. states = [ 'Alabama', .. ,'Wyoming' ] Display all states starting with the letter M. \n"
   ]
  },
  {
   "cell_type": "code",
   "execution_count": 186,
   "metadata": {},
   "outputs": [
    {
     "name": "stdout",
     "output_type": "stream",
     "text": [
      "Pradeep Kumar 22MCA1049\n",
      "\n",
      "Stes of america starting with M is : \n",
      "Maine\n",
      "Maryland\n",
      "Massachusetts\n",
      "Michigan\n",
      "Minnesota\n",
      "Mississippi\n",
      "Missouri\n",
      "Montana\n"
     ]
    }
   ],
   "source": [
    "print(\"Pradeep Kumar 22MCA1049\")\n",
    "print(\"\")\n",
    "\n",
    "#I found all the list of states from internet and stored in a list \n",
    "#then applied startwith function for printing states start with M\n",
    "states = ['Alabama', 'Alaska', 'Arizona', 'Arkansas', 'California', 'Colorado', 'Connecticut', 'Delaware', \n",
    "          'Florida', 'Georgia', 'Hawaii', 'Idaho', 'Illinois', 'Indiana', 'Iowa', 'Kansas', 'Kentucky',\n",
    "          'Louisiana', 'Maine', 'Maryland', 'Massachusetts', 'Michigan', 'Minnesota', 'Mississippi', \n",
    "          'Missouri', 'Montana', 'Nebraska', 'Nevada', 'New Hampshire', 'New Jersey', 'New Mexico', \n",
    "          'New York', 'North Carolina', 'North Dakota', 'Ohio', 'Oklahoma', 'Oregon', 'Pennsylvania', \n",
    "          'Rhode Island', 'South Carolina', 'South Dakota', 'Tennessee', 'Texas', 'Utah', 'Vermont', \n",
    "          'Virginia', 'Washington', 'West Virginia', 'Wisconsin', 'Wyoming']\n",
    "\n",
    "print(\"Stes of america starting with M is : \")\n",
    "for state in states:\n",
    "    if state.startswith('M'):\n",
    "        print(state)\n"
   ]
  },
  {
   "cell_type": "markdown",
   "metadata": {},
   "source": [
    "## 10. Write a program which accepts a sequence of comma-separated numbers from console and generate a list and a tuple which contains every number. Suppose the following input is supplied to the program: 34, 67, 55, 33, 12, 98. Then, the output should be: ['34', '67', '55', '33', '12', '98'] ('34',67', '55', '33', '12', '98'). "
   ]
  },
  {
   "cell_type": "code",
   "execution_count": 187,
   "metadata": {},
   "outputs": [
    {
     "name": "stdout",
     "output_type": "stream",
     "text": [
      "Pradeep Kumar 22MCA1049\n",
      "\n",
      "Enter comma-separated numbers: 34,67,55,33,12,98\n",
      "Expected output is : \n",
      "['34', '67', '55', '33', '12', '98']\n",
      "('34', '67', '55', '33', '12', '98')\n"
     ]
    }
   ],
   "source": [
    "print(\"Pradeep Kumar 22MCA1049\")\n",
    "print(\"\")\n",
    "user_input = input(\"Enter comma-separated numbers: \")\n",
    "numbers = user_input.split(\",\")\n",
    "print(\"Expected output is : \")\n",
    "print(numbers)\n",
    "print(tuple(numbers))\n"
   ]
  },
  {
   "cell_type": "markdown",
   "metadata": {},
   "source": [
    "## 11.With a given tuple (1, 2, 3, 4, 5, 6, 7, 8, 9, 10), write a program to  print the first half values in one line and the last half values in one line"
   ]
  },
  {
   "cell_type": "code",
   "execution_count": 156,
   "metadata": {},
   "outputs": [
    {
     "name": "stdout",
     "output_type": "stream",
     "text": [
      "Pradeep Kumar 22MCA1049\n",
      "\n",
      "Tuple is :  (1, 2, 3, 4, 5, 6, 7, 8, 9, 10)\n",
      "First half is :  (1, 2, 3, 4, 5)\n",
      "Second half is : (6, 7, 8, 9, 10)\n"
     ]
    }
   ],
   "source": [
    "print(\"Pradeep Kumar 22MCA1049\")\n",
    "print(\"\")\n",
    "t = (1, 2, 3, 4, 5, 6, 7, 8, 9, 10)\n",
    "print(\"Tuple is : \",t)\n",
    "half = len(t)//2\n",
    "print(\"First half is : \",t[:half])\n",
    "print(\"Second half is :\",t[half:])\n"
   ]
  },
  {
   "cell_type": "markdown",
   "metadata": {},
   "source": [
    "## 12. Find a) The sum and average of given numbers using lists."
   ]
  },
  {
   "cell_type": "code",
   "execution_count": 181,
   "metadata": {},
   "outputs": [
    {
     "name": "stdout",
     "output_type": "stream",
     "text": [
      "Pradeep Kumar 22MCA1049\n",
      "\n",
      "[1, 2, 3, 4, 5, 6, 7, 8, 9]\n",
      "Sum of all elements of the list is :  45\n",
      "Aveerage of all numbers of the list is :  5.0\n"
     ]
    }
   ],
   "source": [
    "print(\"Pradeep Kumar 22MCA1049\")\n",
    "print(\"\")\n",
    "sum=0\n",
    "list1 = [1,2,3,4,5,6,7,8,9]\n",
    "print(list1)\n",
    "for i in list1:\n",
    "    sum+=i\n",
    "print(\"Sum of all elements of the list is : \",sum)\n",
    "print(\"Aveerage of all numbers of the list is : \",sum/len(list1))"
   ]
  },
  {
   "cell_type": "markdown",
   "metadata": {},
   "source": [
    "## b) To display elements of list in reverse order. "
   ]
  },
  {
   "cell_type": "code",
   "execution_count": 177,
   "metadata": {},
   "outputs": [
    {
     "name": "stdout",
     "output_type": "stream",
     "text": [
      "Elements of list is :  [1, 2, 3, 4, 5, 6, 7, 8, 9]\n",
      "Reverse of the list is :  [9, 8, 7, 6, 5, 4, 3, 2, 1]\n"
     ]
    }
   ],
   "source": [
    "print(\"Pradeep Kumar 22MCA1049\")\n",
    "print(\"\")\n",
    "print(\"Elements of list is : \",list1)\n",
    "print(\"Reverse of the list is : \", list[::-1])"
   ]
  },
  {
   "cell_type": "markdown",
   "metadata": {},
   "source": [
    "##   c) Finding the minimum and maximum elements in the lists."
   ]
  },
  {
   "cell_type": "code",
   "execution_count": 180,
   "metadata": {},
   "outputs": [
    {
     "name": "stdout",
     "output_type": "stream",
     "text": [
      "Maximum element of the list is :  9\n",
      "Minimum element of the list is :  1\n"
     ]
    }
   ],
   "source": [
    "print(\"Pradeep Kumar 22MCA1049\")\n",
    "print(\"\")\n",
    "print(\"Maximum element of the list is : \",max(list1))\n",
    "print(\"Minimum element of the list is : \",min(list1))"
   ]
  }
 ],
 "metadata": {
  "kernelspec": {
   "display_name": "Python 3",
   "language": "python",
   "name": "python3"
  },
  "language_info": {
   "codemirror_mode": {
    "name": "ipython",
    "version": 3
   },
   "file_extension": ".py",
   "mimetype": "text/x-python",
   "name": "python",
   "nbconvert_exporter": "python",
   "pygments_lexer": "ipython3",
   "version": "3.8.5"
  }
 },
 "nbformat": 4,
 "nbformat_minor": 2
}
