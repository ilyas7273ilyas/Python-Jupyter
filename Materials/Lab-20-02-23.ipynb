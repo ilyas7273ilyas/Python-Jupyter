{
 "cells": [
  {
   "cell_type": "code",
   "execution_count": null,
   "metadata": {},
   "outputs": [],
   "source": []
  },
  {
   "cell_type": "code",
   "execution_count": null,
   "metadata": {},
   "outputs": [],
   "source": []
  },
  {
   "cell_type": "code",
   "execution_count": 15,
   "metadata": {},
   "outputs": [
    {
     "name": "stdout",
     "output_type": "stream",
     "text": [
      "Enter a number: 45\n",
      "The number is Odd.\n"
     ]
    }
   ],
   "source": [
    "#2\n",
    "number = input(\"Enter a number: \")\n",
    "x = int(number)%2\n",
    "if x == 0:\n",
    "    print(\"The number is Even.\")\n",
    "else:\n",
    "    print(\"The number is Odd.\")"
   ]
  },
  {
   "cell_type": "code",
   "execution_count": 14,
   "metadata": {},
   "outputs": [
    {
     "name": "stdout",
     "output_type": "stream",
     "text": [
      "Enter temperature in Centigrade: 30\n",
      "Temperature in Fahrenheit is:  86.0\n"
     ]
    }
   ],
   "source": [
    "#3\n",
    "c = input(\"Enter temperature in Centigrade: \")\n",
    "f = (9*(int(c))/5)+32\n",
    "print(\"Temperature in Fahrenheit is: \", f)"
   ]
  },
  {
   "cell_type": "code",
   "execution_count": 13,
   "metadata": {},
   "outputs": [
    {
     "name": "stdout",
     "output_type": "stream",
     "text": [
      "Enter the count of numbers: 4\n",
      "Enter an integer: 2\n",
      "Enter an integer: 4\n",
      "Enter an integer: 6\n",
      "Enter an integer: 7\n",
      "The average is:  4.75\n"
     ]
    }
   ],
   "source": [
    "#4\n",
    "count = int(input(\"Enter the count of numbers: \"))\n",
    "i = 0\n",
    "sum = 0\n",
    "for i in range(count):\n",
    "    x = int(input(\"Enter an integer: \"))\n",
    "    sum = sum + x\n",
    "avg = sum/count\n",
    "print(\"The average is: \", avg)"
   ]
  },
  {
   "cell_type": "code",
   "execution_count": 12,
   "metadata": {},
   "outputs": [
    {
     "name": "stdout",
     "output_type": "stream",
     "text": [
      "Enter the number of real numbers: 3\n",
      "Enter a real number: 3.2\n",
      "Enter a real number: 2.1\n",
      "Enter a real number: 1.5\n",
      "The product of the numbers is:  10.080000000000002\n"
     ]
    }
   ],
   "source": [
    "#5\n",
    "i = 0\n",
    "product = 1\n",
    "count = int(input(\"Enter the number of real numbers: \"))\n",
    "for i in range(count):\n",
    "    x = float(input(\"Enter a real number: \"))\n",
    "    product = product * x\n",
    "print(\"The product of the numbers is: \", product)"
   ]
  },
  {
   "cell_type": "code",
   "execution_count": 11,
   "metadata": {},
   "outputs": [
    {
     "name": "stdout",
     "output_type": "stream",
     "text": [
      "Input the radius of the circle: 4.5\n",
      "The circumference of the circle is:  28.274333882308138\n",
      "The area of the circle is:  63.61725123519331\n"
     ]
    }
   ],
   "source": [
    "#6\n",
    "import math\n",
    "r = float(input(\"Input the radius of the circle: \"))\n",
    "c = 2 * math.pi * r\n",
    "area = math.pi * r * r\n",
    "print(\"The circumference of the circle is: \", c)\n",
    "print(\"The area of the circle is: \", area)"
   ]
  },
  {
   "cell_type": "code",
   "execution_count": 10,
   "metadata": {},
   "outputs": [
    {
     "name": "stdout",
     "output_type": "stream",
     "text": [
      "Enter a positive integer: 1078\n",
      "8701\n"
     ]
    }
   ],
   "source": [
    "#7\n",
    "number = int(input(\"Enter a positive integer: \"))\n",
    "rev = 0\n",
    "while(number!=0):\n",
    "    digit = number%10\n",
    "    rev = (rev*10)+digit\n",
    "    number = number//10\n",
    "print(rev)"
   ]
  },
  {
   "cell_type": "code",
   "execution_count": 9,
   "metadata": {},
   "outputs": [
    {
     "name": "stdout",
     "output_type": "stream",
     "text": [
      "12\n",
      "15\n",
      "18\n",
      "21\n",
      "24\n",
      "27\n",
      "30\n",
      "33\n",
      "36\n",
      "39\n",
      "42\n",
      "45\n",
      "48\n"
     ]
    }
   ],
   "source": [
    "#8\n",
    "for i in range(10,50):\n",
    "    if (i%3==0):\n",
    "        print(i)"
   ]
  },
  {
   "cell_type": "code",
   "execution_count": 8,
   "metadata": {},
   "outputs": [
    {
     "name": "stdout",
     "output_type": "stream",
     "text": [
      "Enter the range: 8\n",
      "2\n",
      "3\n",
      "5\n",
      "7\n"
     ]
    }
   ],
   "source": [
    "#9\n",
    "num =int(input(\"Enter the range: \"))\n",
    "for n in range(2,num):\n",
    "    for i in range(2,n):\n",
    "        if(n%i==0):\n",
    "            break\n",
    "    else:\n",
    "        print(n)   "
   ]
  },
  {
   "cell_type": "code",
   "execution_count": 7,
   "metadata": {},
   "outputs": [
    {
     "name": "stdout",
     "output_type": "stream",
     "text": [
      "Enter the first coefficient: 4\n",
      "Enter the second coefficient: 7\n",
      "Enter the third coefficient: 2\n",
      "The roots are real and distinct.\n",
      "The root1 is:  -0.3596117967977924\n",
      "The root2 is:  -1.3903882032022077\n"
     ]
    }
   ],
   "source": [
    "#10\n",
    "import math\n",
    "a = float(input(\"Enter the first coefficient: \"))\n",
    "b = float(input(\"Enter the second coefficient: \"))\n",
    "c = float(input(\"Enter the third coefficient: \"))\n",
    "if (a!=0.0):\n",
    "    d = (b*b)-(4*a*c) \n",
    "    if (d==0.0):\n",
    "        print(\"The roots are real and equal.\") \n",
    "        r = -b/(2*a)\n",
    "        print(\"The roots are \", r,\"and\", r)\n",
    "    elif(d>0.0):\n",
    "        print(\"The roots are real and distinct.\")\n",
    "        r1 = (-b+(math.sqrt(d)))/(2*a) \n",
    "        r2 = (-b-(math.sqrt(d)))/(2*a)\n",
    "        print(\"The root1 is: \", r1)\n",
    "        print(\"The root2 is: \", r2)\n",
    "    else:\n",
    "        print(\"The roots are imaginary.\")\n",
    "        rp = -b/(2*a)\n",
    "        ip = math.sqrt(-d)/(2*a)\n",
    "        print(\"The root1 is: \", rp, \"+ i\",ip)\n",
    "        print(\"The root2 is: \", rp, \"- i\",ip)\n",
    "else:\n",
    "    print(\"Not a quadratic equation.\")"
   ]
  },
  {
   "cell_type": "code",
   "execution_count": 3,
   "metadata": {},
   "outputs": [
    {
     "name": "stdout",
     "output_type": "stream",
     "text": [
      "Enter an integer: 4\n",
      "The factorial of 4  is:  24\n"
     ]
    }
   ],
   "source": [
    "#11\n",
    "def fact(n):\n",
    "    if n==1:\n",
    "        f=1\n",
    "    else:\n",
    "        f = n * fact(n-1)\n",
    "    return f\n",
    "num = int(input(\"Enter an integer: \"))\n",
    "result = fact(num)\n",
    "print(\"The factorial of\", num, \" is: \", result)"
   ]
  },
  {
   "cell_type": "code",
   "execution_count": 5,
   "metadata": {},
   "outputs": [
    {
     "name": "stdout",
     "output_type": "stream",
     "text": [
      "5\n"
     ]
    }
   ],
   "source": [
    "#12\n",
    "def Fib(n):\n",
    "    if n<0:\n",
    "        print(\"The input is incorrect.\")\n",
    "    elif n==1:\n",
    "        return 0\n",
    "    elif n==2:\n",
    "        return 1\n",
    "    else:\n",
    "        return Fib(n-1)+Fib(n-2)\n",
    "print(Fib(6))"
   ]
  },
  {
   "cell_type": "code",
   "execution_count": 2,
   "metadata": {},
   "outputs": [
    {
     "name": "stdout",
     "output_type": "stream",
     "text": [
      "Enter the number to be found out: 8\n",
      "Successful search, the element is found at position 4\n"
     ]
    }
   ],
   "source": [
    "#13\n",
    "numbers = [4,2,7,1,8,3,6]\n",
    "f = 0 #flag\n",
    "x = int(input(\"Enter the number to be found out: \"))\n",
    "for i in range(len(numbers)):\n",
    "    if (x==numbers[i]):\n",
    "        print(\"Successful search, the element is found at position\", i)\n",
    "        f = 1\n",
    "        break\n",
    "if(f==0):\n",
    "    print(\"Oops! Search unsuccessful\")"
   ]
  },
  {
   "cell_type": "code",
   "execution_count": 6,
   "metadata": {},
   "outputs": [
    {
     "name": "stdout",
     "output_type": "stream",
     "text": [
      "The number of odd numbers in the list are:  4\n"
     ]
    }
   ],
   "source": [
    "#14\n",
    "numbers = [8,3,1,6,2,4,5,9]\n",
    "count = 0\n",
    "for i in range(len(numbers)):\n",
    "    if(numbers[i]%2!=0):\n",
    "        count = count+1\n",
    "print(\"The number of odd numbers in the list are: \", count)"
   ]
  },
  {
   "cell_type": "code",
   "execution_count": null,
   "metadata": {},
   "outputs": [],
   "source": []
  }
 ],
 "metadata": {
  "kernelspec": {
   "display_name": "Python 3",
   "language": "python",
   "name": "python3"
  },
  "language_info": {
   "codemirror_mode": {
    "name": "ipython",
    "version": 3
   },
   "file_extension": ".py",
   "mimetype": "text/x-python",
   "name": "python",
   "nbconvert_exporter": "python",
   "pygments_lexer": "ipython3",
   "version": "3.8.5"
  }
 },
 "nbformat": 4,
 "nbformat_minor": 5
}
